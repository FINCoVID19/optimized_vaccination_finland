{
 "cells": [
  {
   "cell_type": "markdown",
   "metadata": {},
   "source": [
    "# Reading JSON files and aggregated Telia data"
   ]
  },
  {
   "cell_type": "code",
   "execution_count": 21,
   "metadata": {},
   "outputs": [],
   "source": [
    "import json\n",
    "import pandas as pd"
   ]
  },
  {
   "cell_type": "markdown",
   "metadata": {},
   "source": [
    "Defininig a function to read any JSON file into a Python dictionary"
   ]
  },
  {
   "cell_type": "code",
   "execution_count": 2,
   "metadata": {},
   "outputs": [],
   "source": [
    "def open_json_file(file):\n",
    "    '''\n",
    "    Parse a JSON file and return a python dictionary\n",
    "\n",
    "    Parameters\n",
    "    ----------\n",
    "    logger: logging object\n",
    "        logger of the script\n",
    "    file : string\n",
    "        The path to the JSON file\n",
    "\n",
    "    Returns\n",
    "    -------\n",
    "    dict\n",
    "        The parsed JSON content into a python dictionary\n",
    "    '''\n",
    "    python_dic = {}\n",
    "    with open(file, 'r') as f:\n",
    "        python_dic = json.load(f)\n",
    "    print('Parsed JSON file: %s' % (file, ))\n",
    "\n",
    "    if python_dic is None:\n",
    "        raise NameError('The specified file was not found!')\n",
    "\n",
    "    return python_dic"
   ]
  },
  {
   "cell_type": "markdown",
   "metadata": {},
   "source": [
    "Reading HYKS JSON file as an example"
   ]
  },
  {
   "cell_type": "code",
   "execution_count": 5,
   "metadata": {},
   "outputs": [
    {
     "name": "stdout",
     "output_type": "stream",
     "text": [
      "Parsed JSON file: hyks.json\n"
     ]
    }
   ],
   "source": [
    "hyks_data = open_json_file('hyks.json')"
   ]
  },
  {
   "cell_type": "markdown",
   "metadata": {},
   "source": [
    "Checking out the keys of the dictioanry i.e. the data it contains. All the values of the dictionary are lists."
   ]
  },
  {
   "cell_type": "code",
   "execution_count": 7,
   "metadata": {},
   "outputs": [
    {
     "name": "stdout",
     "output_type": "stream",
     "text": [
      "dict_keys(['date', 'cases', 'hospitalized', 'in_icu', 'deaths', 'new_deaths', 'new_cases', 'Rt', 'Rt_lower', 'Rt_upper', 'Rt_lower50', 'Rt_upper50', 'Rt_lower90', 'Rt_upper90', 'new_cases_uks', 'new_cases_uks_lower50', 'new_cases_uks_upper50', 'new_cases_uks_lower90', 'new_cases_uks_upper90', 'new_cases_uks_lower', 'new_cases_uks_upper'])\n"
     ]
    }
   ],
   "source": [
    "print(hyks_data.keys())"
   ]
  },
  {
   "cell_type": "markdown",
   "metadata": {},
   "source": [
    "For convenience, declaring variables for Rt and date"
   ]
  },
  {
   "cell_type": "code",
   "execution_count": 9,
   "metadata": {},
   "outputs": [],
   "source": [
    "rt_hyks = hyks_data['Rt']\n",
    "date_hyks = hyks_data['date']"
   ]
  },
  {
   "cell_type": "markdown",
   "metadata": {},
   "source": [
    "Getting the index were a given `date` is located. There is a one to one correspondence between all the lists in the dicionary. The $i^{th}$ entry of the list `date` corresponds to the $i^{th}$ of the list Rt"
   ]
  },
  {
   "cell_type": "code",
   "execution_count": 19,
   "metadata": {},
   "outputs": [
    {
     "name": "stdout",
     "output_type": "stream",
     "text": [
      "1.13738929797133\n"
     ]
    }
   ],
   "source": [
    "date_idx = date_hyks.index('2021-03-01')\n",
    "print(rt_hyks[date_idx])"
   ]
  },
  {
   "cell_type": "markdown",
   "metadata": {},
   "source": [
    "Opening the aggregated file by ERVA using pandas. I stored the file in CSV format because it is a format that any programming language is able to read.\n",
    "\n",
    "I think all the fields are self-explanatory. Just note that there can be also trips within the same area."
   ]
  },
  {
   "cell_type": "code",
   "execution_count": 22,
   "metadata": {},
   "outputs": [
    {
     "data": {
      "text/html": [
       "<div>\n",
       "<style scoped>\n",
       "    .dataframe tbody tr th:only-of-type {\n",
       "        vertical-align: middle;\n",
       "    }\n",
       "\n",
       "    .dataframe tbody tr th {\n",
       "        vertical-align: top;\n",
       "    }\n",
       "\n",
       "    .dataframe thead th {\n",
       "        text-align: right;\n",
       "    }\n",
       "</style>\n",
       "<table border=\"1\" class=\"dataframe\">\n",
       "  <thead>\n",
       "    <tr style=\"text-align: right;\">\n",
       "      <th></th>\n",
       "      <th>date</th>\n",
       "      <th>origin_erva</th>\n",
       "      <th>dest_erva</th>\n",
       "      <th>hour</th>\n",
       "      <th>trips_sum</th>\n",
       "    </tr>\n",
       "  </thead>\n",
       "  <tbody>\n",
       "    <tr>\n",
       "      <th>0</th>\n",
       "      <td>2019-02-01</td>\n",
       "      <td>HYKS</td>\n",
       "      <td>HYKS</td>\n",
       "      <td>00-05</td>\n",
       "      <td>206218</td>\n",
       "    </tr>\n",
       "    <tr>\n",
       "      <th>1</th>\n",
       "      <td>2019-02-01</td>\n",
       "      <td>HYKS</td>\n",
       "      <td>HYKS</td>\n",
       "      <td>06-11</td>\n",
       "      <td>1723584</td>\n",
       "    </tr>\n",
       "    <tr>\n",
       "      <th>2</th>\n",
       "      <td>2019-02-01</td>\n",
       "      <td>HYKS</td>\n",
       "      <td>HYKS</td>\n",
       "      <td>12-17</td>\n",
       "      <td>2140500</td>\n",
       "    </tr>\n",
       "    <tr>\n",
       "      <th>3</th>\n",
       "      <td>2019-02-01</td>\n",
       "      <td>HYKS</td>\n",
       "      <td>HYKS</td>\n",
       "      <td>18-23</td>\n",
       "      <td>893553</td>\n",
       "    </tr>\n",
       "    <tr>\n",
       "      <th>4</th>\n",
       "      <td>2019-02-01</td>\n",
       "      <td>HYKS</td>\n",
       "      <td>KYS</td>\n",
       "      <td>00-05</td>\n",
       "      <td>1018</td>\n",
       "    </tr>\n",
       "    <tr>\n",
       "      <th>...</th>\n",
       "      <td>...</td>\n",
       "      <td>...</td>\n",
       "      <td>...</td>\n",
       "      <td>...</td>\n",
       "      <td>...</td>\n",
       "    </tr>\n",
       "    <tr>\n",
       "      <th>13805</th>\n",
       "      <td>2020-03-31</td>\n",
       "      <td>TAYS</td>\n",
       "      <td>TYKS</td>\n",
       "      <td>00-05</td>\n",
       "      <td>22</td>\n",
       "    </tr>\n",
       "    <tr>\n",
       "      <th>13806</th>\n",
       "      <td>2020-03-31</td>\n",
       "      <td>TAYS</td>\n",
       "      <td>TYKS</td>\n",
       "      <td>06-11</td>\n",
       "      <td>29</td>\n",
       "    </tr>\n",
       "    <tr>\n",
       "      <th>13807</th>\n",
       "      <td>2020-03-31</td>\n",
       "      <td>TAYS</td>\n",
       "      <td>TYKS</td>\n",
       "      <td>12-17</td>\n",
       "      <td>20</td>\n",
       "    </tr>\n",
       "    <tr>\n",
       "      <th>13808</th>\n",
       "      <td>2020-03-31</td>\n",
       "      <td>TAYS</td>\n",
       "      <td>TYKS</td>\n",
       "      <td>18-23</td>\n",
       "      <td>5</td>\n",
       "    </tr>\n",
       "    <tr>\n",
       "      <th>13809</th>\n",
       "      <td>2020-03-31</td>\n",
       "      <td>TAYS</td>\n",
       "      <td>Åland</td>\n",
       "      <td>00-05</td>\n",
       "      <td>5</td>\n",
       "    </tr>\n",
       "  </tbody>\n",
       "</table>\n",
       "<p>13810 rows × 5 columns</p>\n",
       "</div>"
      ],
      "text/plain": [
       "             date origin_erva dest_erva   hour  trips_sum\n",
       "0      2019-02-01        HYKS      HYKS  00-05     206218\n",
       "1      2019-02-01        HYKS      HYKS  06-11    1723584\n",
       "2      2019-02-01        HYKS      HYKS  12-17    2140500\n",
       "3      2019-02-01        HYKS      HYKS  18-23     893553\n",
       "4      2019-02-01        HYKS       KYS  00-05       1018\n",
       "...           ...         ...       ...    ...        ...\n",
       "13805  2020-03-31        TAYS      TYKS  00-05         22\n",
       "13806  2020-03-31        TAYS      TYKS  06-11         29\n",
       "13807  2020-03-31        TAYS      TYKS  12-17         20\n",
       "13808  2020-03-31        TAYS      TYKS  18-23          5\n",
       "13809  2020-03-31        TAYS     Åland  00-05          5\n",
       "\n",
       "[13810 rows x 5 columns]"
      ]
     },
     "execution_count": 22,
     "metadata": {},
     "output_type": "execute_result"
    }
   ],
   "source": [
    "file_path = '/m/cs/scratch/cv19-telia/poncea2/telia_data_erva.csv'\n",
    "telia_mobility_df = pd.read_csv(file_path, sep=\",\")\n",
    "telia_mobility_df"
   ]
  },
  {
   "cell_type": "markdown",
   "metadata": {},
   "source": [
    "Example: Gettting rid of the rows that have the same area as origin and destination"
   ]
  },
  {
   "cell_type": "code",
   "execution_count": 27,
   "metadata": {},
   "outputs": [
    {
     "data": {
      "text/html": [
       "<div>\n",
       "<style scoped>\n",
       "    .dataframe tbody tr th:only-of-type {\n",
       "        vertical-align: middle;\n",
       "    }\n",
       "\n",
       "    .dataframe tbody tr th {\n",
       "        vertical-align: top;\n",
       "    }\n",
       "\n",
       "    .dataframe thead th {\n",
       "        text-align: right;\n",
       "    }\n",
       "</style>\n",
       "<table border=\"1\" class=\"dataframe\">\n",
       "  <thead>\n",
       "    <tr style=\"text-align: right;\">\n",
       "      <th></th>\n",
       "      <th>date</th>\n",
       "      <th>origin_erva</th>\n",
       "      <th>dest_erva</th>\n",
       "      <th>hour</th>\n",
       "      <th>trips_sum</th>\n",
       "    </tr>\n",
       "  </thead>\n",
       "  <tbody>\n",
       "    <tr>\n",
       "      <th>4</th>\n",
       "      <td>2019-02-01</td>\n",
       "      <td>HYKS</td>\n",
       "      <td>KYS</td>\n",
       "      <td>00-05</td>\n",
       "      <td>1018</td>\n",
       "    </tr>\n",
       "    <tr>\n",
       "      <th>5</th>\n",
       "      <td>2019-02-01</td>\n",
       "      <td>HYKS</td>\n",
       "      <td>KYS</td>\n",
       "      <td>06-11</td>\n",
       "      <td>7747</td>\n",
       "    </tr>\n",
       "    <tr>\n",
       "      <th>6</th>\n",
       "      <td>2019-02-01</td>\n",
       "      <td>HYKS</td>\n",
       "      <td>KYS</td>\n",
       "      <td>12-17</td>\n",
       "      <td>15700</td>\n",
       "    </tr>\n",
       "    <tr>\n",
       "      <th>7</th>\n",
       "      <td>2019-02-01</td>\n",
       "      <td>HYKS</td>\n",
       "      <td>KYS</td>\n",
       "      <td>18-23</td>\n",
       "      <td>4114</td>\n",
       "    </tr>\n",
       "    <tr>\n",
       "      <th>8</th>\n",
       "      <td>2019-02-01</td>\n",
       "      <td>HYKS</td>\n",
       "      <td>OYS</td>\n",
       "      <td>00-05</td>\n",
       "      <td>264</td>\n",
       "    </tr>\n",
       "    <tr>\n",
       "      <th>...</th>\n",
       "      <td>...</td>\n",
       "      <td>...</td>\n",
       "      <td>...</td>\n",
       "      <td>...</td>\n",
       "      <td>...</td>\n",
       "    </tr>\n",
       "    <tr>\n",
       "      <th>13805</th>\n",
       "      <td>2020-03-31</td>\n",
       "      <td>TAYS</td>\n",
       "      <td>TYKS</td>\n",
       "      <td>00-05</td>\n",
       "      <td>22</td>\n",
       "    </tr>\n",
       "    <tr>\n",
       "      <th>13806</th>\n",
       "      <td>2020-03-31</td>\n",
       "      <td>TAYS</td>\n",
       "      <td>TYKS</td>\n",
       "      <td>06-11</td>\n",
       "      <td>29</td>\n",
       "    </tr>\n",
       "    <tr>\n",
       "      <th>13807</th>\n",
       "      <td>2020-03-31</td>\n",
       "      <td>TAYS</td>\n",
       "      <td>TYKS</td>\n",
       "      <td>12-17</td>\n",
       "      <td>20</td>\n",
       "    </tr>\n",
       "    <tr>\n",
       "      <th>13808</th>\n",
       "      <td>2020-03-31</td>\n",
       "      <td>TAYS</td>\n",
       "      <td>TYKS</td>\n",
       "      <td>18-23</td>\n",
       "      <td>5</td>\n",
       "    </tr>\n",
       "    <tr>\n",
       "      <th>13809</th>\n",
       "      <td>2020-03-31</td>\n",
       "      <td>TAYS</td>\n",
       "      <td>Åland</td>\n",
       "      <td>00-05</td>\n",
       "      <td>5</td>\n",
       "    </tr>\n",
       "  </tbody>\n",
       "</table>\n",
       "<p>11038 rows × 5 columns</p>\n",
       "</div>"
      ],
      "text/plain": [
       "             date origin_erva dest_erva   hour  trips_sum\n",
       "4      2019-02-01        HYKS       KYS  00-05       1018\n",
       "5      2019-02-01        HYKS       KYS  06-11       7747\n",
       "6      2019-02-01        HYKS       KYS  12-17      15700\n",
       "7      2019-02-01        HYKS       KYS  18-23       4114\n",
       "8      2019-02-01        HYKS       OYS  00-05        264\n",
       "...           ...         ...       ...    ...        ...\n",
       "13805  2020-03-31        TAYS      TYKS  00-05         22\n",
       "13806  2020-03-31        TAYS      TYKS  06-11         29\n",
       "13807  2020-03-31        TAYS      TYKS  12-17         20\n",
       "13808  2020-03-31        TAYS      TYKS  18-23          5\n",
       "13809  2020-03-31        TAYS     Åland  00-05          5\n",
       "\n",
       "[11038 rows x 5 columns]"
      ]
     },
     "execution_count": 27,
     "metadata": {},
     "output_type": "execute_result"
    }
   ],
   "source": [
    "telia_mobility_dfalt = telia_mobility_df[telia_mobility_df['origin_erva'] != telia_mobility_df['dest_erva']]\n",
    "telia_mobility_dfalt"
   ]
  },
  {
   "cell_type": "markdown",
   "metadata": {},
   "source": [
    "Example: Aggregating by date i.e. getting rid of the hour"
   ]
  },
  {
   "cell_type": "code",
   "execution_count": 28,
   "metadata": {},
   "outputs": [
    {
     "data": {
      "text/html": [
       "<div>\n",
       "<style scoped>\n",
       "    .dataframe tbody tr th:only-of-type {\n",
       "        vertical-align: middle;\n",
       "    }\n",
       "\n",
       "    .dataframe tbody tr th {\n",
       "        vertical-align: top;\n",
       "    }\n",
       "\n",
       "    .dataframe thead th {\n",
       "        text-align: right;\n",
       "    }\n",
       "</style>\n",
       "<table border=\"1\" class=\"dataframe\">\n",
       "  <thead>\n",
       "    <tr style=\"text-align: right;\">\n",
       "      <th></th>\n",
       "      <th></th>\n",
       "      <th></th>\n",
       "      <th>trips_sum</th>\n",
       "    </tr>\n",
       "    <tr>\n",
       "      <th>date</th>\n",
       "      <th>origin_erva</th>\n",
       "      <th>dest_erva</th>\n",
       "      <th></th>\n",
       "    </tr>\n",
       "  </thead>\n",
       "  <tbody>\n",
       "    <tr>\n",
       "      <th rowspan=\"5\" valign=\"top\">2019-02-01</th>\n",
       "      <th rowspan=\"5\" valign=\"top\">HYKS</th>\n",
       "      <th>KYS</th>\n",
       "      <td>28579</td>\n",
       "    </tr>\n",
       "    <tr>\n",
       "      <th>OYS</th>\n",
       "      <td>6591</td>\n",
       "    </tr>\n",
       "    <tr>\n",
       "      <th>TAYS</th>\n",
       "      <td>70564</td>\n",
       "    </tr>\n",
       "    <tr>\n",
       "      <th>TYKS</th>\n",
       "      <td>32801</td>\n",
       "    </tr>\n",
       "    <tr>\n",
       "      <th>Åland</th>\n",
       "      <td>146</td>\n",
       "    </tr>\n",
       "    <tr>\n",
       "      <th>...</th>\n",
       "      <th>...</th>\n",
       "      <th>...</th>\n",
       "      <td>...</td>\n",
       "    </tr>\n",
       "    <tr>\n",
       "      <th rowspan=\"5\" valign=\"top\">2020-03-31</th>\n",
       "      <th>HYKS</th>\n",
       "      <th>TYKS</th>\n",
       "      <td>183</td>\n",
       "    </tr>\n",
       "    <tr>\n",
       "      <th rowspan=\"4\" valign=\"top\">TAYS</th>\n",
       "      <th>HYKS</th>\n",
       "      <td>1486</td>\n",
       "    </tr>\n",
       "    <tr>\n",
       "      <th>KYS</th>\n",
       "      <td>8</td>\n",
       "    </tr>\n",
       "    <tr>\n",
       "      <th>TYKS</th>\n",
       "      <td>76</td>\n",
       "    </tr>\n",
       "    <tr>\n",
       "      <th>Åland</th>\n",
       "      <td>5</td>\n",
       "    </tr>\n",
       "  </tbody>\n",
       "</table>\n",
       "<p>3003 rows × 1 columns</p>\n",
       "</div>"
      ],
      "text/plain": [
       "                                  trips_sum\n",
       "date       origin_erva dest_erva           \n",
       "2019-02-01 HYKS        KYS            28579\n",
       "                       OYS             6591\n",
       "                       TAYS           70564\n",
       "                       TYKS           32801\n",
       "                       Åland            146\n",
       "...                                     ...\n",
       "2020-03-31 HYKS        TYKS             183\n",
       "           TAYS        HYKS            1486\n",
       "                       KYS                8\n",
       "                       TYKS              76\n",
       "                       Åland              5\n",
       "\n",
       "[3003 rows x 1 columns]"
      ]
     },
     "execution_count": 28,
     "metadata": {},
     "output_type": "execute_result"
    }
   ],
   "source": [
    "groupby = ['date', 'origin_erva', 'dest_erva']\n",
    "telia_mob_day = telia_mobility_dfalt.groupby(by=groupby).sum()\n",
    "telia_mob_day"
   ]
  },
  {
   "cell_type": "code",
   "execution_count": 2,
   "metadata": {},
   "outputs": [],
   "source": [
    "import numpy as np"
   ]
  },
  {
   "cell_type": "code",
   "execution_count": 3,
   "metadata": {},
   "outputs": [],
   "source": [
    "a = np.arange(10)"
   ]
  },
  {
   "cell_type": "code",
   "execution_count": 5,
   "metadata": {},
   "outputs": [
    {
     "data": {
      "text/plain": [
       "2"
      ]
     },
     "execution_count": 5,
     "metadata": {},
     "output_type": "execute_result"
    }
   ],
   "source": [
    "a[2]"
   ]
  },
  {
   "cell_type": "code",
   "execution_count": 6,
   "metadata": {},
   "outputs": [
    {
     "data": {
      "text/plain": [
       "0.0"
      ]
     },
     "execution_count": 6,
     "metadata": {},
     "output_type": "execute_result"
    }
   ],
   "source": [
    "np.round(0.5)"
   ]
  },
  {
   "cell_type": "code",
   "execution_count": null,
   "metadata": {},
   "outputs": [],
   "source": []
  }
 ],
 "metadata": {
  "kernelspec": {
   "display_name": "Python 3",
   "language": "python",
   "name": "python3"
  },
  "language_info": {
   "codemirror_mode": {
    "name": "ipython",
    "version": 3
   },
   "file_extension": ".py",
   "mimetype": "text/x-python",
   "name": "python",
   "nbconvert_exporter": "python",
   "pygments_lexer": "ipython3",
   "version": "3.7.4"
  }
 },
 "nbformat": 4,
 "nbformat_minor": 4
}
