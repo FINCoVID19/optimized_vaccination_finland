{
 "cells": [
  {
   "cell_type": "code",
   "execution_count": 4,
   "metadata": {},
   "outputs": [],
   "source": [
    "import os\n",
    "import numpy as np\n",
    "import matplotlib.pyplot as plt\n",
    "import matplotlib as mpl\n",
    "from experiments import search_best_ws_r_metric\n",
    "from env_var import EPIDEMIC, MAPPINGS, EXPERIMENTS\n",
    "\n",
    "mpl.rcParams['text.usetex'] = True\n",
    "mpl.rcParams['figure.dpi']= 175\n",
    "plt.style.use('ggplot')"
   ]
  },
  {
   "cell_type": "code",
   "execution_count": 5,
   "metadata": {},
   "outputs": [],
   "source": [
    "# Simulation parameters\n",
    "num_age_groups = EXPERIMENTS['num_age_groups']\n",
    "num_ervas = EXPERIMENTS['num_ervas']\n",
    "T = EXPERIMENTS['simulate_T']\n",
    "init_vacc = EXPERIMENTS['init_vacc']\n",
    "taus = EXPERIMENTS['taus']\n",
    "u = EXPERIMENTS['vaccines_per_day']\n",
    "r_experiments = EXPERIMENTS['r_effs']\n",
    "t0 = EXPERIMENTS['t0']\n",
    "e = EPIDEMIC['e']\n",
    "search_num_ws = EXPERIMENTS['search_num_ws']\n",
    "\n",
    "# Plot parameters\n",
    "ervas_labels = EPIDEMIC['ervas_order']\n",
    "age_labels = MAPPINGS['age_groups'][num_age_groups]['names']\n",
    "color_palette = [\"#999999\", \"#E69F00\", \"#56B4E9\", \"#009E73\", \"#F0E442\", \"#0072B2\", \"#D55E00\", \"#CC79A7\"]"
   ]
  },
  {
   "cell_type": "code",
   "execution_count": 6,
   "metadata": {},
   "outputs": [],
   "source": [
    "exp_results = search_best_ws_r_metric(num_age_groups=num_age_groups,\n",
    "                                      num_ervas=num_ervas,\n",
    "                                      init_vacc=init_vacc,\n",
    "                                      u=u,\n",
    "                                      T=T,\n",
    "                                      r_experiments=r_experiments,\n",
    "                                      t0=t0,\n",
    "                                      e=e,\n",
    "                                      taus=taus,\n",
    "                                      search_num_ws=search_num_ws)"
   ]
  },
  {
   "cell_type": "code",
   "execution_count": null,
   "metadata": {},
   "outputs": [],
   "source": []
  }
 ],
 "metadata": {
  "kernelspec": {
   "display_name": "env",
   "language": "python",
   "name": "env"
  },
  "language_info": {
   "codemirror_mode": {
    "name": "ipython",
    "version": 3
   },
   "file_extension": ".py",
   "mimetype": "text/x-python",
   "name": "python",
   "nbconvert_exporter": "python",
   "pygments_lexer": "ipython3",
   "version": "3.7.4"
  }
 },
 "nbformat": 4,
 "nbformat_minor": 2
}
